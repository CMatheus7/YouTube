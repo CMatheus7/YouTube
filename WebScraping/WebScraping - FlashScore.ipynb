{
 "cells": [
  {
   "cell_type": "code",
   "execution_count": 1,
   "id": "4ae59d9b",
   "metadata": {},
   "outputs": [],
   "source": [
    "import pandas as pd\n",
    "from tinydb import TinyDB,Query\n",
    "import warnings\n",
    "warnings.filterwarnings('ignore')\n",
    "from selenium import webdriver\n",
    "from time import sleep\n",
    "from tqdm.auto import tqdm\n",
    "from selenium.webdriver.common.by import By\n",
    "from selenium.webdriver.chrome.service import Service\n",
    "from selenium.webdriver.support.ui import WebDriverWait\n",
    "from selenium.webdriver.support import expected_conditions as EC\n",
    "from datetime import date, datetime, timedelta\n",
    "\n",
    "dia = date.today() + timedelta(1)"
   ]
  },
  {
   "cell_type": "code",
   "execution_count": 2,
   "id": "d57bc968",
   "metadata": {},
   "outputs": [
    {
     "name": "stdout",
     "output_type": "stream",
     "text": [
      "Football Live Scores, Latest Football Results | Flashscore.com\n"
     ]
    },
    {
     "data": {
      "application/vnd.jupyter.widget-view+json": {
       "model_id": "edad228ab0454b929b1aacca274cc29c",
       "version_major": 2,
       "version_minor": 0
      },
      "text/plain": [
       "  0%|          | 0/75 [00:00<?, ?it/s]"
      ]
     },
     "metadata": {},
     "output_type": "display_data"
    }
   ],
   "source": [
    "jogos_do_dia = TinyDB(f'Jogos_do_Dia_FlashScore_{dia}.json')\n",
    "\n",
    "options = webdriver.ChromeOptions()\n",
    "options.add_argument('--headless')\n",
    "\n",
    "s = Service('./chromedriver.exe')\n",
    "driver = webdriver.Chrome(service=s, options=options)\n",
    "driver.maximize_window()\n",
    "\n",
    "url = 'https://www.flashscore.com/'\n",
    "driver.get(url)\n",
    "try:\n",
    "    WebDriverWait(driver, 8).until(EC.visibility_of_element_located((By.CSS_SELECTOR,'button#onetrust-accept-btn-handler')))\n",
    "    button_cookies = driver.find_element(By.CSS_SELECTOR,'button#onetrust-accept-btn-handler')\n",
    "    button_cookies.click()\n",
    "except:\n",
    "    print(\"cookies already closed\")\n",
    "\n",
    "WebDriverWait(driver, 8).until(EC.element_to_be_clickable((By.CSS_SELECTOR,'.calendar__navigation--tomorrow')))\n",
    "driver.execute_script(\"document.getElementsByClassName('otPlaceholder')[0].style.display='none';\")\n",
    "driver.find_element(By.CSS_SELECTOR,'.calendar__navigation--tomorrow').click()\n",
    "sleep(5)\n",
    "\n",
    "jogos = driver.find_elements(By.CSS_SELECTOR,'div.event__match--twoLine')\n",
    "id_jogos =[]\n",
    "for i in jogos:\n",
    "    id_jogos.append(i.get_attribute(\"id\")[4:])\n",
    "\n",
    "print(driver.title)\n",
    "for id_jogo in tqdm(id_jogos):\n",
    "    procura_duplicado = Query()\n",
    "    if jogos_do_dia.search(procura_duplicado.Id == id_jogo) == []:\n",
    "        driver.get(f'https://www.flashscore.com/match/{id_jogo}/#/match-summary/match-summary')\n",
    "        country = driver.find_element(By.CSS_SELECTOR,'span.tournamentHeader__country').text.split(':')[0]\n",
    "        league = driver.find_element(By.CSS_SELECTOR,'span.tournamentHeader__country > a').text.split(' -')[0]\n",
    "        try:\n",
    "            jogo = {}\n",
    "            \n",
    "            # Informações Básicas\n",
    "            driver.get(f'https://www.flashscore.com/match/{id_jogo}/#/match-summary/match-summary')\n",
    "            jogo['Id'] = id_jogo\n",
    "            country = driver.find_element(By.CSS_SELECTOR,'span.tournamentHeader__country').text.split(':')[0]\n",
    "            date = driver.find_element(By.CSS_SELECTOR,'div.duelParticipant__startTime').text.split(' ')[0]\n",
    "            jogo['Date'] = date.replace('.','/')\n",
    "            time = driver.find_element(By.CSS_SELECTOR,'div.duelParticipant__startTime').text.split(' ')[1]\n",
    "            jogo['Time'] = time\n",
    "            league = driver.find_element(By.CSS_SELECTOR,'span.tournamentHeader__country > a').text.split(' -')[0]\n",
    "            jogo['League'] = f'{country} - {league}'\n",
    "            home = driver.find_element(By.CSS_SELECTOR,'div.duelParticipant__home').find_element(By.CSS_SELECTOR,'div.participant__participantName').text\n",
    "            jogo['Home'] = home\n",
    "            away = driver.find_element(By.CSS_SELECTOR,'div.duelParticipant__away').find_element(By.CSS_SELECTOR,'div.participant__participantName').text\n",
    "            jogo['Away'] = away\n",
    "            \n",
    "            # Pegando as Odds do Match Odds\n",
    "            url_ml_full_time = f'https://www.flashscore.com/match/{id_jogo}/#/odds-comparison/1x2-odds/full-time'\n",
    "            driver.get(url_ml_full_time)\n",
    "            sleep(1)\n",
    "            if driver.current_url == url_ml_full_time:\n",
    "                WebDriverWait(driver, 8).until(EC.visibility_of_element_located((By.CSS_SELECTOR,'div.ui-table')))\n",
    "                table_odds = driver.find_element(By.CSS_SELECTOR,'div.ui-table')\n",
    "                linha_ml_ft = table_odds.find_element(By.CSS_SELECTOR,'div.ui-table__row')\n",
    "                jogo['Odd_H_FT'] = float(linha_ml_ft.find_elements(By.CSS_SELECTOR,'a.oddsCell__odd')[0].text)\n",
    "                jogo['Odd_D_FT'] = float(linha_ml_ft.find_elements(By.CSS_SELECTOR,'a.oddsCell__odd')[1].text)\n",
    "                jogo['Odd_A_FT'] = float(linha_ml_ft.find_elements(By.CSS_SELECTOR,'a.oddsCell__odd')[2].text)\n",
    "                \n",
    "            # Pegando as Odds do Over e Under\n",
    "            url_ou_full_time = f'https://www.flashscore.com/match/{id_jogo}/#/odds-comparison/over-under/full-time'\n",
    "            driver.get(url_ou_full_time)\n",
    "            sleep(1)\n",
    "            if driver.current_url == url_ou_full_time:\n",
    "                WebDriverWait(driver, 8).until(EC.visibility_of_element_located((By.CSS_SELECTOR,'div.ui-table')))\n",
    "                linhas = driver.find_elements(By.CSS_SELECTOR,'div.ui-table__body')\n",
    "                for linha in linhas:\n",
    "                    if (len(linha.find_elements(By.CSS_SELECTOR,'a.oddsCell__odd')) > 1):\n",
    "                        bookie = linha.find_element(By.CSS_SELECTOR,'img.prematchLogo').get_attribute('title')\n",
    "                        total_gols = linha.find_element(By.CSS_SELECTOR,'span.oddsCell__noOddsCell').text.replace('.','')\n",
    "                        if total_gols == '25':\n",
    "                            over = float(linha.find_elements(By.CSS_SELECTOR,'a.oddsCell__odd')[0].text)\n",
    "                            under = float(linha.find_elements(By.CSS_SELECTOR,'a.oddsCell__odd')[1].text)\n",
    "                            jogo[f'Odd_Over{total_gols}_FT'] = over\n",
    "                            jogo[f'Odd_Under{total_gols}_FT'] = under\n",
    "\n",
    "            # Pegando as Odds do BTTS\n",
    "            url_btts_full_time = f'https://www.flashscore.com/match/{id_jogo}/#/odds-comparison/both-teams-to-score/full-time'\n",
    "            driver.get(url_btts_full_time)\n",
    "            sleep(1)\n",
    "            if driver.current_url == url_btts_full_time:\n",
    "                WebDriverWait(driver, 8).until(EC.visibility_of_element_located((By.CSS_SELECTOR,'div.ui-table')))\n",
    "                linha = driver.find_element(By.CSS_SELECTOR,'div.ui-table__row')\n",
    "                bookie_btts = linha.find_element(By.CSS_SELECTOR,'img.prematchLogo').get_attribute('title')\n",
    "                jogo['Odd_BTTS_Yes'] = float(linha.find_elements(By.CSS_SELECTOR,'a.oddsCell__odd')[0].text)\n",
    "                jogo['Odd_BTTS_No'] = float(linha.find_elements(By.CSS_SELECTOR,'a.oddsCell__odd')[1].text)\n",
    "            jogos_do_dia.insert(jogo.copy())\n",
    "        except:\n",
    "            pass\n",
    "\n",
    "driver.close()"
   ]
  },
  {
   "cell_type": "code",
   "execution_count": 9,
   "id": "e0ee46b9",
   "metadata": {},
   "outputs": [],
   "source": [
    "df = pd.DataFrame(jogos_do_dia.all())\n",
    "df = df.dropna()\n",
    "df = df.reset_index(drop=True)\n",
    "df.index += 1\n",
    "df.to_excel(f\"Jogos_do_Dia_FlashScore_{dia}.xlsx\",index=False)"
   ]
  }
 ],
 "metadata": {
  "kernelspec": {
   "display_name": "Python 3 (ipykernel)",
   "language": "python",
   "name": "python3"
  },
  "language_info": {
   "codemirror_mode": {
    "name": "ipython",
    "version": 3
   },
   "file_extension": ".py",
   "mimetype": "text/x-python",
   "name": "python",
   "nbconvert_exporter": "python",
   "pygments_lexer": "ipython3",
   "version": "3.11.4"
  }
 },
 "nbformat": 4,
 "nbformat_minor": 5
}
